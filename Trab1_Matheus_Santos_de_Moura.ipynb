{
 "cells": [
  {
   "cell_type": "markdown",
   "id": "39b4c8ea",
   "metadata": {},
   "source": [
    "# Comparação Experimental de Técnicas de Classificação\n",
    "\n",
    "Este trabalho tem como objetivo realizar uma **comparação experimental** entre um conjunto pré-definido de técnicas de aprendizado e classificação automática aplicadas a um problema de **classificação supervisionada**."
   ]
  },
  {
   "cell_type": "markdown",
   "id": "58720d99",
   "metadata": {},
   "source": [
    "## Técnicas Utilizadas\n",
    "\n",
    "As seguintes técnicas de aprendizado serão avaliadas:\n",
    "\n",
    "- **Decision Tree (DT)**\n",
    "- **K Nearest Neighbors (KNN)**\n",
    "- **Multi-layer Perceptron (MLP)**\n",
    "- **Random Forest (RF)**\n",
    "- **Heterogeneous Boosting (HB)**\n",
    "\n",
    "## Procedimento Experimental\n",
    "\n",
    "O experimento será conduzido em **3 rodadas** de ciclos aninhados de validação e teste, organizados da seguinte forma:\n",
    "\n",
    "- **Validação interna:** 4 folds\n",
    "- **Teste externo:** 10 folds\n",
    "\n",
    "A seleção de hiperparâmetros será realizada por **busca em grade** (_grid search_) no ciclo interno, com os seguintes valores para cada técnica:\n",
    "\n",
    "### Hiperparâmetros\n",
    "\n",
    "```python\n",
    "# Decision Tree (DT)\n",
    "{\n",
    "    'criterion': ['gini', 'entropy'],\n",
    "    'max_depth': [5, 10, 15, 25]\n",
    "}\n",
    "\n",
    "# K Nearest Neighbors (KNN)\n",
    "{\n",
    "    'n_neighbors': [1, 3, 5, 7, 9]\n",
    "}\n",
    "\n",
    "# Multi-layer Perceptron (MLP)\n",
    "{\n",
    "    'hidden_layer_sizes': [(100,), (10,)],\n",
    "    'alpha': [0.0001, 0.005],\n",
    "    'learning_rate': ['constant', 'adaptive']\n",
    "}\n",
    "\n",
    "# Random Forest (RF)\n",
    "{\n",
    "    'n_estimators': [5, 10, 15, 25],\n",
    "    'max_depth': [10, None]\n",
    "}\n",
    "\n",
    "# Heterogeneous Boosting (HB)\n",
    "{\n",
    "    'n_estimators': [5, 10, 15, 25, 50]\n",
    "}\n"
   ]
  },
  {
   "cell_type": "markdown",
   "id": "d10de79a",
   "metadata": {},
   "source": [
    "# Imports"
   ]
  },
  {
   "cell_type": "code",
   "execution_count": null,
   "id": "9509c14e",
   "metadata": {},
   "outputs": [],
   "source": [
    "# Manipulação de dados\n",
    "import numpy as np\n",
    "import pandas as pd\n",
    "\n",
    "# Modelos de classificação\n",
    "from sklearn.tree import DecisionTreeClassifier\n",
    "from sklearn.neighbors import KNeighborsClassifier\n",
    "from sklearn.neural_network import MLPClassifier\n",
    "from sklearn.ensemble import RandomForestClassifier\n",
    "\n",
    "# (Exemplo de Heterogeneous Boosting com Gradient Boosting)\n",
    "from sklearn.ensemble import GradientBoostingClassifier\n",
    "\n",
    "# Validação cruzada e avaliação\n",
    "from sklearn.model_selection import GridSearchCV, cross_val_score, StratifiedKFold\n",
    "from sklearn.metrics import accuracy_score\n",
    "from scipy import stats\n",
    "\n",
    "# Visualização\n",
    "import matplotlib.pyplot as plt\n",
    "import seaborn as sns\n",
    "\n"
   ]
  },
  {
   "cell_type": "markdown",
   "id": "deb58fb3",
   "metadata": {},
   "source": [
    "# Configurações de exibição"
   ]
  },
  {
   "cell_type": "code",
   "execution_count": 2,
   "id": "18f1b5bf",
   "metadata": {},
   "outputs": [],
   "source": [
    "# Configurações gerais de visualização\n",
    "sns.set(style=\"whitegrid\")\n",
    "plt.rcParams[\"figure.figsize\"] = (10, 6)"
   ]
  },
  {
   "cell_type": "markdown",
   "id": "07e0dc2b",
   "metadata": {},
   "source": [
    "# Importando base de dados"
   ]
  },
  {
   "cell_type": "code",
   "execution_count": 3,
   "id": "264acf6e",
   "metadata": {},
   "outputs": [],
   "source": [
    "data = pd.read_csv(\"data/jogosLoL2021.csv\")"
   ]
  },
  {
   "cell_type": "markdown",
   "id": "eba45642",
   "metadata": {},
   "source": [
    "# Pré-processamento dos dados"
   ]
  },
  {
   "cell_type": "markdown",
   "id": "6dbb36c1",
   "metadata": {},
   "source": [
    "Você deve **descartar o identificador da partida** e realizar **pré-processamento**, incluindo:\n",
    "- Codificação de variáveis categóricas\n",
    "- Codificação da variável alvo\n",
    "- Padronização das características numéricas\n",
    "\n",
    "A tarefa específica (ex.: usar dados de pré-jogo, 10 minutos, etc.) depende do **último dígito da matrícula**."
   ]
  },
  {
   "cell_type": "markdown",
   "id": "b4314ba2",
   "metadata": {},
   "source": []
  }
 ],
 "metadata": {
  "kernelspec": {
   "display_name": "Python 3",
   "language": "python",
   "name": "python3"
  },
  "language_info": {
   "codemirror_mode": {
    "name": "ipython",
    "version": 3
   },
   "file_extension": ".py",
   "mimetype": "text/x-python",
   "name": "python",
   "nbconvert_exporter": "python",
   "pygments_lexer": "ipython3",
   "version": "3.13.3"
  }
 },
 "nbformat": 4,
 "nbformat_minor": 5
}
